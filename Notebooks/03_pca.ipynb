{
  "nbformat": 4,
  "nbformat_minor": 0,
  "metadata": {
    "colab": {
      "provenance": []
    },
    "kernelspec": {
      "name": "python3",
      "display_name": "Python 3"
    },
    "language_info": {
      "name": "python"
    }
  },
  "cells": [
    {
      "cell_type": "code",
      "source": [
        "# Elaborado por:\n",
        "# Ana Mantilla : anagmd2019@gmail.com\n",
        "# Paul Goyes : goyes.yesid@gmail.com"
      ],
      "metadata": {
        "id": "ZLgpuBOxQoTm"
      },
      "execution_count": null,
      "outputs": []
    },
    {
      "cell_type": "code",
      "source": [
        "!git clone https://github.com/Anagabrielamantilla/MineralPrediction.git"
      ],
      "metadata": {
        "colab": {
          "base_uri": "https://localhost:8080/"
        },
        "id": "FXzvRzQ8QpHB",
        "outputId": "08a57e06-323d-4bed-9193-affe64820536"
      },
      "execution_count": null,
      "outputs": [
        {
          "output_type": "stream",
          "name": "stdout",
          "text": [
            "Cloning into 'MineralPrediction'...\n",
            "remote: Enumerating objects: 166, done.\u001b[K\n",
            "remote: Counting objects: 100% (70/70), done.\u001b[K\n",
            "remote: Compressing objects: 100% (70/70), done.\u001b[K\n",
            "remote: Total 166 (delta 37), reused 0 (delta 0), pack-reused 96\u001b[K\n",
            "Receiving objects: 100% (166/166), 12.66 MiB | 13.92 MiB/s, done.\n",
            "Resolving deltas: 100% (57/57), done.\n"
          ]
        }
      ]
    },
    {
      "cell_type": "markdown",
      "source": [
        "**ANÁLISIS DE COMPONENTES PRINCIPALES CON NUEVE VARIABLES DE ENTRADA**"
      ],
      "metadata": {
        "id": "a4ybDQJ5k2Nd"
      }
    },
    {
      "cell_type": "code",
      "execution_count": null,
      "metadata": {
        "colab": {
          "base_uri": "https://localhost:8080/"
        },
        "id": "zCMI_SBbVkPc",
        "outputId": "e3f5c847-1147-4674-e3fa-1f6e63b11a14"
      },
      "outputs": [
        {
          "output_type": "stream",
          "name": "stdout",
          "text": [
            "Mounted at /content/drive\n"
          ]
        }
      ],
      "source": [
        "# Conectarse a Google Drive\n",
        "\n",
        "from google.colab import drive\n",
        "drive.mount('/content/drive',force_remount=True)"
      ]
    },
    {
      "cell_type": "code",
      "source": [
        "# Importar librerías\n",
        "\n",
        "import gdal\n",
        "import numpy as np \n",
        "import matplotlib.pyplot as plt"
      ],
      "metadata": {
        "id": "e-fJXbwvVuJT"
      },
      "execution_count": null,
      "outputs": []
    },
    {
      "cell_type": "code",
      "source": [
        "fn = '/content/drive/MyDrive/TESIS/salidas-graficas/nueve-pca/'"
      ],
      "metadata": {
        "id": "yLbX79xacd_2"
      },
      "execution_count": null,
      "outputs": []
    },
    {
      "cell_type": "code",
      "source": [
        "v1 = gdal.Open('/content/drive/MyDrive/Colab Notebooks/TESIS/VIRTUAL-RASTER/04_Virtual_Raster.tif')\n",
        "col   = v1.RasterXSize\n",
        "rows  = v1.RasterYSize\n",
        "nelem = col*rows\n",
        "print(rows, col)"
      ],
      "metadata": {
        "id": "NvTFOUhZcHvG"
      },
      "execution_count": null,
      "outputs": []
    },
    {
      "cell_type": "code",
      "source": [
        "# #Ejecutar solo para comprobar\n",
        "\n",
        "v1val = v1.GetRasterBand(9).ReadAsArray().flatten()\n",
        "NanValues = np.where(v1val == -9999)[0]\n",
        "v1val[NanValues]=None\n",
        "\n",
        "\n",
        "plt.imshow(v1val.reshape(rows,col),cmap='jet')\n",
        "plt.colorbar()"
      ],
      "metadata": {
        "id": "azrtGE2xcTVY"
      },
      "execution_count": null,
      "outputs": []
    },
    {
      "cell_type": "code",
      "source": [
        "#PASO 2: EXTRAER LOS VALORES\n",
        "\n",
        "v1val = v1.GetRasterBand(1).ReadAsArray().flatten()\n",
        "v2val = v1.GetRasterBand(2).ReadAsArray().flatten()\n",
        "v3val = v1.GetRasterBand(3).ReadAsArray().flatten()\n",
        "v4val = v1.GetRasterBand(4).ReadAsArray().flatten()\n",
        "v5val = v1.GetRasterBand(5).ReadAsArray().flatten()\n",
        "v6val = v1.GetRasterBand(6).ReadAsArray().flatten()\n",
        "v7val = v1.GetRasterBand(7).ReadAsArray().flatten()\n",
        "v8val = v1.GetRasterBand(8).ReadAsArray().flatten()\n",
        "v9val = v1.GetRasterBand(9).ReadAsArray().flatten()\n"
      ],
      "metadata": {
        "id": "ITKduJB6cKg5"
      },
      "execution_count": null,
      "outputs": []
    },
    {
      "cell_type": "code",
      "source": [
        "#PASO 3: ENCONTRAR LAS POSICIONES Nan Y ELIMINARLAS\n",
        "\n",
        "NanValues = np.where(v1val == -9999)[0]\n",
        "\n",
        "DATA = np.stack((v1val,v2val,v3val,v4val,v5val,v6val,v7val,v8val,v9val),axis=1)\n",
        "\n",
        "cP        = np.arange(0,nelem)\n",
        "cPP       = np.delete(cP, NanValues, axis=0)\n",
        "\n",
        "XX = np.delete(DATA, NanValues, axis=0)"
      ],
      "metadata": {
        "id": "_JR9F-xdcMT7"
      },
      "execution_count": null,
      "outputs": []
    },
    {
      "cell_type": "code",
      "source": [
        "# Paso 4: Estandarizar los valores\n",
        "\n",
        "from sklearn.decomposition import PCA\n",
        "from sklearn.preprocessing import StandardScaler\n",
        "\n",
        "x = StandardScaler().fit_transform(XX)\n",
        "\n",
        "n_components= 9\n",
        "pca = PCA(n_components)\n",
        "PC12 = pca.fit_transform(x)\n",
        "print(\"The explained variance for \"+ str(n_components) + \" PC is: \", np.sum(pca.explained_variance_ratio_))"
      ],
      "metadata": {
        "colab": {
          "base_uri": "https://localhost:8080/"
        },
        "id": "U4US5_Beb4Lt",
        "outputId": "a70acb28-02a8-44e6-a365-8be0deac7d7c"
      },
      "execution_count": null,
      "outputs": [
        {
          "output_type": "stream",
          "name": "stdout",
          "text": [
            "The explained variance for 9 PC is:  0.9999999999999999\n"
          ]
        }
      ]
    },
    {
      "cell_type": "markdown",
      "source": [
        "***Una vez se garantiza el número de componentes principales necesarios para los datos, se procede a transformar los mapas predictores***"
      ],
      "metadata": {
        "id": "PVIXFdI8Q1oT"
      }
    },
    {
      "cell_type": "markdown",
      "source": [
        "## **Transformación de los componentes principales a ráster**"
      ],
      "metadata": {
        "id": "qLVZ6MYvrzvB"
      }
    },
    {
      "cell_type": "code",
      "source": [
        "####################################################\n",
        "# Paso 5: Escribir los datos PCA en el dato raster\n",
        "####################################################\n",
        "\n",
        "driver = v1.GetDriver()\n",
        "\n",
        "## PC1\n",
        "pca1 = driver.Create(fn + \"PC1\" + \".tif\", col, rows, 1, gdal.GDT_Float32)\n",
        "# Write metadata\n",
        "pca1.SetGeoTransform(v1.GetGeoTransform())\n",
        "pca1.SetProjection(v1.GetProjection())\n",
        "\n",
        "pca1dataarray = np.zeros((rows,col)).flatten()\n",
        "\n",
        "for i in range(cPP.shape[0]):\n",
        "    pca1dataarray[cPP[i]]=PC12[i,0] #esto cambia según corresponda\n",
        "    \n",
        "for i in range(NanValues.shape[0]):\n",
        "    pca1dataarray[NanValues[i]]=-9999\n",
        "\n",
        "pca1.GetRasterBand(1).WriteArray(pca1dataarray.reshape(rows,col))\n",
        "pca1.GetRasterBand(1).SetNoDataValue(-9999)\n",
        "pca1 = None\n",
        "del pca1"
      ],
      "metadata": {
        "id": "qNFxysBKb6y_"
      },
      "execution_count": null,
      "outputs": []
    },
    {
      "cell_type": "code",
      "metadata": {
        "id": "yzPaI1s_jIiP"
      },
      "source": [
        "## PC2\n",
        "pca2 = driver.Create(fn + \"PC2\" + \".tif\", col, rows, 1, gdal.GDT_Float32)\n",
        "# Write metadata\n",
        "pca2.SetGeoTransform(v1.GetGeoTransform())\n",
        "pca2.SetProjection(v1.GetProjection())\n",
        "\n",
        "pca2dataarray = np.zeros((rows,col)).flatten()\n",
        "\n",
        "for i in range(cPP.shape[0]):\n",
        "    pca2dataarray[cPP[i]]=PC12[i,1]#esto cambia según corresponda\n",
        "    \n",
        "for i in range(NanValues.shape[0]):\n",
        "    pca2dataarray[NanValues[i]]=-9999\n",
        "\n",
        "pca2.GetRasterBand(1).WriteArray(pca2dataarray.reshape(rows,col))\n",
        "pca2.GetRasterBand(1).SetNoDataValue(-9999)\n",
        "pca2 = None\n",
        "del pca2"
      ],
      "execution_count": null,
      "outputs": []
    },
    {
      "cell_type": "code",
      "metadata": {
        "id": "gKtUhtjpkQid"
      },
      "source": [
        "## PC3\n",
        "pca3 = driver.Create(fn + \"PC3\" + \".tif\", col, rows, 1, gdal.GDT_Float32)\n",
        "# Write metadata\n",
        "pca3.SetGeoTransform(v1.GetGeoTransform())\n",
        "pca3.SetProjection(v1.GetProjection())\n",
        "\n",
        "pca3dataarray = np.zeros((rows,col)).flatten()\n",
        "\n",
        "for i in range(cPP.shape[0]):\n",
        "    pca3dataarray[cPP[i]]=PC12[i,2]#esto cambia según corresponda\n",
        "    \n",
        "for i in range(NanValues.shape[0]):\n",
        "    pca3dataarray[NanValues[i]]=-9999\n",
        "\n",
        "pca3.GetRasterBand(1).WriteArray(pca3dataarray.reshape(rows,col))\n",
        "pca3.GetRasterBand(1).SetNoDataValue(-9999)\n",
        "pca3 = None\n",
        "del pca3"
      ],
      "execution_count": null,
      "outputs": []
    },
    {
      "cell_type": "code",
      "source": [
        "## PC4\n",
        "pca4 = driver.Create(fn + \"PC4\" + \".tif\", col, rows, 1, gdal.GDT_Float32)\n",
        "# Write metadata\n",
        "pca4.SetGeoTransform(v1.GetGeoTransform())\n",
        "pca4.SetProjection(v1.GetProjection())\n",
        "\n",
        "pca4dataarray = np.zeros((rows,col)).flatten()\n",
        "\n",
        "for i in range(cPP.shape[0]):\n",
        "    pca4dataarray[cPP[i]]=PC12[i,3]#esto cambia según corresponda\n",
        "    \n",
        "for i in range(NanValues.shape[0]):\n",
        "    pca4dataarray[NanValues[i]]=-9999\n",
        "\n",
        "pca4.GetRasterBand(1).WriteArray(pca4dataarray.reshape(rows,col))\n",
        "pca4.GetRasterBand(1).SetNoDataValue(-9999)\n",
        "pca4 = None\n",
        "del pca4"
      ],
      "metadata": {
        "id": "_jbEz0PvicEt"
      },
      "execution_count": null,
      "outputs": []
    },
    {
      "cell_type": "code",
      "source": [
        "## PC5\n",
        "pca5 = driver.Create(fn + \"PC5\" + \".tif\", col, rows, 1, gdal.GDT_Float32)\n",
        "# Write metadata\n",
        "pca5.SetGeoTransform(v1.GetGeoTransform())\n",
        "pca5.SetProjection(v1.GetProjection())\n",
        "\n",
        "pca5dataarray = np.zeros((rows,col)).flatten()\n",
        "\n",
        "for i in range(cPP.shape[0]):\n",
        "    pca5dataarray[cPP[i]]=PC12[i,4]#esto cambia según corresponda\n",
        "    \n",
        "for i in range(NanValues.shape[0]):\n",
        "    pca5dataarray[NanValues[i]]=-9999\n",
        "\n",
        "pca5.GetRasterBand(1).WriteArray(pca5dataarray.reshape(rows,col))\n",
        "pca5.GetRasterBand(1).SetNoDataValue(-9999)\n",
        "pca5 = None\n",
        "del pca5"
      ],
      "metadata": {
        "id": "p2Z0xFxYisjq"
      },
      "execution_count": null,
      "outputs": []
    },
    {
      "cell_type": "code",
      "source": [
        "## PC6\n",
        "pca6 = driver.Create(fn + \"PC6\" + \".tif\", col, rows, 1, gdal.GDT_Float32)\n",
        "# Write metadata\n",
        "pca6.SetGeoTransform(v1.GetGeoTransform())\n",
        "pca6.SetProjection(v1.GetProjection())\n",
        "\n",
        "pca6dataarray = np.zeros((rows,col)).flatten()\n",
        "\n",
        "for i in range(cPP.shape[0]):\n",
        "    pca6dataarray[cPP[i]]=PC12[i,5]#esto cambia según corresponda\n",
        "    \n",
        "for i in range(NanValues.shape[0]):\n",
        "    pca6dataarray[NanValues[i]]=-9999\n",
        "\n",
        "pca6.GetRasterBand(1).WriteArray(pca6dataarray.reshape(rows,col))\n",
        "pca6.GetRasterBand(1).SetNoDataValue(-9999)\n",
        "pca6 = None\n",
        "del pca6"
      ],
      "metadata": {
        "id": "zDdQ2yQ8i5hd"
      },
      "execution_count": null,
      "outputs": []
    },
    {
      "cell_type": "code",
      "source": [
        "## PC7\n",
        "pca7 = driver.Create(fn + \"PC7\" + \".tif\", col, rows, 1, gdal.GDT_Float32)\n",
        "# Write metadata\n",
        "pca7.SetGeoTransform(v1.GetGeoTransform())\n",
        "pca7.SetProjection(v1.GetProjection())\n",
        "\n",
        "pca7dataarray = np.zeros((rows,col)).flatten()\n",
        "\n",
        "for i in range(cPP.shape[0]):\n",
        "    pca7dataarray[cPP[i]]=PC12[i,6]#esto cambia según corresponda\n",
        "    \n",
        "for i in range(NanValues.shape[0]):\n",
        "    pca7dataarray[NanValues[i]]=-9999\n",
        "\n",
        "pca7.GetRasterBand(1).WriteArray(pca7dataarray.reshape(rows,col))\n",
        "pca7.GetRasterBand(1).SetNoDataValue(-9999)\n",
        "pca7 = None\n",
        "del pca7"
      ],
      "metadata": {
        "id": "tDXjfbUVjUvb"
      },
      "execution_count": null,
      "outputs": []
    },
    {
      "cell_type": "code",
      "source": [
        "## PC8\n",
        "pca8 = driver.Create(fn + \"PC8\" + \".tif\", col, rows, 1, gdal.GDT_Float32)\n",
        "# Write metadata\n",
        "pca8.SetGeoTransform(v1.GetGeoTransform())\n",
        "pca8.SetProjection(v1.GetProjection())\n",
        "\n",
        "pca8dataarray = np.zeros((rows,col)).flatten()\n",
        "\n",
        "for i in range(cPP.shape[0]):\n",
        "    pca8dataarray[cPP[i]]=PC12[i,7]#esto cambia según corresponda\n",
        "    \n",
        "for i in range(NanValues.shape[0]):\n",
        "    pca8dataarray[NanValues[i]]=-9999\n",
        "\n",
        "pca8.GetRasterBand(1).WriteArray(pca8dataarray.reshape(rows,col))\n",
        "pca8.GetRasterBand(1).SetNoDataValue(-9999)\n",
        "pca8 = None\n",
        "del pca8"
      ],
      "metadata": {
        "id": "jV8yNMULemDr"
      },
      "execution_count": null,
      "outputs": []
    },
    {
      "cell_type": "code",
      "source": [
        "## PC9\n",
        "pca9 = driver.Create(fn + \"PC9\" + \".tif\", col, rows, 1, gdal.GDT_Float32)\n",
        "# Write metadata\n",
        "pca9.SetGeoTransform(v1.GetGeoTransform())\n",
        "pca9.SetProjection(v1.GetProjection())\n",
        "\n",
        "pca9dataarray = np.zeros((rows,col)).flatten()\n",
        "\n",
        "for i in range(cPP.shape[0]):\n",
        "    pca9dataarray[cPP[i]]=PC12[i,8]#esto cambia según corresponda\n",
        "    \n",
        "for i in range(NanValues.shape[0]):\n",
        "    pca9dataarray[NanValues[i]]=-9999\n",
        "\n",
        "pca9.GetRasterBand(1).WriteArray(pca9dataarray.reshape(rows,col))\n",
        "pca9.GetRasterBand(1).SetNoDataValue(-9999)\n",
        "pca9 = None\n",
        "del pca9"
      ],
      "metadata": {
        "id": "apVuWkeEdh1q"
      },
      "execution_count": null,
      "outputs": []
    },
    {
      "cell_type": "code",
      "source": [
        "# ## PC10\n",
        "# pca10 = driver.Create(fn + \"PC10\" + \".tif\", col, rows, 1, gdal.GDT_Float32)\n",
        "# # Write metadata\n",
        "# pca10.SetGeoTransform(v1.GetGeoTransform())\n",
        "# pca10.SetProjection(v1.GetProjection())\n",
        "\n",
        "# pca10dataarray = np.zeros((rows,col)).flatten()\n",
        "\n",
        "# for i in range(cPP.shape[0]):\n",
        "#     pca10dataarray[cPP[i]]=PC12[i,9]#esto cambia según corresponda\n",
        "    \n",
        "# for i in range(NanValues.shape[0]):\n",
        "#     pca10dataarray[NanValues[i]]=-9999\n",
        "\n",
        "# pca10.GetRasterBand(1).WriteArray(pca10dataarray.reshape(rows,col))\n",
        "# pca10.GetRasterBand(1).SetNoDataValue(-9999)\n",
        "# pca10 = None\n",
        "# del pca10"
      ],
      "metadata": {
        "id": "dn5c8rigdh5s"
      },
      "execution_count": null,
      "outputs": []
    },
    {
      "cell_type": "code",
      "source": [
        "# ## PC11\n",
        "# pca11 = driver.Create(fn + \"PC11\" + \".tif\", col, rows, 1, gdal.GDT_Float32)\n",
        "# # Write metadata\n",
        "# pca11.SetGeoTransform(v1.GetGeoTransform())\n",
        "# pca11.SetProjection(v1.GetProjection())\n",
        "\n",
        "# pca11dataarray = np.zeros((rows,col)).flatten()\n",
        "\n",
        "# for i in range(cPP.shape[0]):\n",
        "#     pca11dataarray[cPP[i]]=PC12[i,10]#esto cambia según corresponda\n",
        "    \n",
        "# for i in range(NanValues.shape[0]):\n",
        "#     pca11dataarray[NanValues[i]]=-9999\n",
        "\n",
        "# pca11.GetRasterBand(1).WriteArray(pca11dataarray.reshape(rows,col))\n",
        "# pca11.GetRasterBand(1).SetNoDataValue(-9999)\n",
        "# pca11 = None\n",
        "# del pca11"
      ],
      "metadata": {
        "id": "p86EgWyRdh8E"
      },
      "execution_count": null,
      "outputs": []
    },
    {
      "cell_type": "markdown",
      "source": [
        "# **Cálculo del porcentaje de varianza explicada acumulada**"
      ],
      "metadata": {
        "id": "JLAtY_VqmOHI"
      }
    },
    {
      "cell_type": "code",
      "source": [
        "# Cumulative sum of eigenvalues; This will be used to create step plot\n",
        "# for visualizing the variance explained by each principal component.\n",
        "#\n",
        "cum_sum_eigenvalues = np.cumsum(pca.explained_variance_ratio_)\n",
        "#\n",
        "# Create the visualization plot\n",
        "#\n",
        "#plt.plot(range(0,len(pca.explained_variance_ratio_)), (pca.explained_variance_ratio_)*100, \n",
        "    #   label='Varianza explicada', color = 'black')\n",
        "\n",
        "plt.bar(range(0,len(pca.explained_variance_ratio_)), (cum_sum_eigenvalues)*100,\n",
        "        color='#cb6154e6',label='Varianza explicada acumulada', align='center',edgecolor='black')\n",
        "\n",
        "#plt.step(range(0,len(cum_sum_eigenvalues)), cum_sum_eigenvalues, where='mid',label='Varianza explicada acumulada')\n",
        "\n",
        "plt.ylabel('Porcentaje de varianza explicada acumulada', fontsize=10)\n",
        "plt.xlabel('Número de componentes principales', fontsize=10)\n",
        "plt.tight_layout()\n",
        "plt.grid(True)\n",
        "plt.axvline(x = 7, ymin = 0, ymax = 0.95, color = '#29334eff', label = 'axvline - full height', linestyle = '--')\n",
        "plt.axhline(y = 97, xmin = 0, xmax = 0.91, color = '#29334eff', linestyle = '--')"
      ],
      "metadata": {
        "colab": {
          "base_uri": "https://localhost:8080/",
          "height": 294
        },
        "id": "pt-SCkOw2qP6",
        "outputId": "14dc289b-bd7e-4ff7-a159-f3261add07c2"
      },
      "execution_count": null,
      "outputs": [
        {
          "output_type": "display_data",
          "data": {
            "text/plain": [
              "<Figure size 432x288 with 1 Axes>"
            ],
            "image/png": "[encoded data removed]"
          },
          "metadata": {
            "needs_background": "light"
          }
        }
      ]
    },
    {
      "cell_type": "code",
      "source": [],
      "metadata": {
        "id": "VuJiUe6pXLVP"
      },
      "execution_count": null,
      "outputs": []
    }
  ]
}